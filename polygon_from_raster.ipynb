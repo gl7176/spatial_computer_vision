{
 "cells": [
  {
   "cell_type": "code",
   "execution_count": 1,
   "id": "e5d001f2",
   "metadata": {},
   "outputs": [],
   "source": [
    "import os\n",
    "from osgeo import gdal\n",
    "import rasterio\n",
    "from rasterio import features\n",
    "import numpy as np\n",
    "import shapely\n",
    "\n",
    "orthomosaic_path = \"D:/FCAT/FCAT2APPK.tif\"\n",
    "output_dir = \"D:/FCAT/background_crops\" # folder where any outputs will be dumped\n",
    "\n",
    "if not os.path.exists(output_dir):\n",
    "    os.makedirs(output_dir)"
   ]
  },
  {
   "cell_type": "code",
   "execution_count": 2,
   "id": "fc5d08de",
   "metadata": {},
   "outputs": [],
   "source": [
    "dataset = rasterio.open(orthomosaic_path)\n",
    "band1 = dataset.read(1)\n",
    "mask = band1 != 255\n",
    "\n",
    "all_polygons = []\n",
    "# for shape, value in features.shapes(mask.astype(np.int16), mask=(mask >0), transform=rasterio.Affine(1.0, 0, 0, 0, 1.0, 0)):\n",
    "for shape, value in features.shapes(mask.astype(np.int16), mask=(mask >0), transform=dataset.transform):\n",
    "    all_polygons.append(shapely.geometry.shape(shape))\n",
    "\n",
    "all_polygons = shapely.geometry.MultiPolygon(all_polygons)\n",
    "if not all_polygons.is_valid:\n",
    "    all_polygons = all_polygons.buffer(0)\n",
    "    # Sometimes buffer() converts a simple Multipolygon to just a Polygon,\n",
    "    # need to keep it a Multi throughout\n",
    "    if all_polygons.type == 'Polygon':\n",
    "        all_polygons = shapely.geometry.MultiPolygon([all_polygons])"
   ]
  },
  {
   "cell_type": "code",
   "execution_count": 5,
   "id": "ae8844df",
   "metadata": {},
   "outputs": [],
   "source": [
    "from shapely.geometry import mapping, Polygon\n",
    "import fiona\n",
    "\n",
    "# Define a polygon feature geometry with one attribute\n",
    "schema = {\n",
    "    'geometry': 'Polygon',\n",
    "    'properties': {'id': 'int'},\n",
    "}\n",
    "\n",
    "# Write a new Shapefile\n",
    "with fiona.open(output_dir + '/AOI_mask.shp', 'w', 'ESRI Shapefile', schema) as c:\n",
    "    ## If there are multiple geometries, put the \"for\" loop here\n",
    "    c.write({\n",
    "        'geometry': mapping(all_polygons),\n",
    "        'properties': {'id': 123},\n",
    "    })"
   ]
  },
  {
   "cell_type": "code",
   "execution_count": null,
   "id": "32057842",
   "metadata": {},
   "outputs": [],
   "source": []
  }
 ],
 "metadata": {
  "kernelspec": {
   "display_name": "Python 3 (ipykernel)",
   "language": "python",
   "name": "python3"
  },
  "language_info": {
   "codemirror_mode": {
    "name": "ipython",
    "version": 3
   },
   "file_extension": ".py",
   "mimetype": "text/x-python",
   "name": "python",
   "nbconvert_exporter": "python",
   "pygments_lexer": "ipython3",
   "version": "3.8.16"
  }
 },
 "nbformat": 4,
 "nbformat_minor": 5
}
