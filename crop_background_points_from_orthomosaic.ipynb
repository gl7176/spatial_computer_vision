{
 "cells": [
  {
   "cell_type": "code",
   "execution_count": 1,
   "id": "e5d001f2",
   "metadata": {},
   "outputs": [],
   "source": [
    "from pprint import pprint\n",
    "from shapely.geometry import mapping\n",
    "import geopandas as gpd, rasterio, os, numpy as np, shapely, random\n",
    "from PIL import Image\n",
    "from rasterio.mask import mask\n",
    "from rasterio.plot import reshape_as_image\n",
    "from rasterio import features\n",
    "\n",
    "orthomosaic_path = \"D:/FCAT/FCAT2APPK.tif\"\n",
    "output_dir = \"D:/FCAT/background_crops\" # folder where any outputs will be dumped\n",
    "input_csv = \"D:/FCAT/Orthomosaic_1_training_data_v3.csv\" # csv of points representing focal objects, here palm trees\n",
    "class_colname = 'Especie' # column where the object \"class\" is located in the input_csv\n",
    "object_size = 12 # estimated size of our focal object, here a palm tree, given in meters\n",
    "\n",
    "if not os.path.exists(output_dir):\n",
    "    os.makedirs(output_dir)"
   ]
  },
  {
   "cell_type": "code",
   "execution_count": 2,
   "id": "489a981c",
   "metadata": {},
   "outputs": [],
   "source": [
    "### This section converts the raster footprint into a polygon called \"all_polygons\"\n",
    "\n",
    "dataset = rasterio.open(orthomosaic_path)\n",
    "band1 = dataset.read(1)\n",
    "mask = band1 != 255\n",
    "\n",
    "all_polygons = []\n",
    "# for shape, value in features.shapes(mask.astype(np.int16), mask=(mask >0), transform=rasterio.Affine(1.0, 0, 0, 0, 1.0, 0)):\n",
    "for shape, value in features.shapes(mask.astype(np.int16), mask=(mask >0), transform=dataset.transform):\n",
    "    all_polygons.append(shapely.geometry.shape(shape))\n",
    "\n",
    "all_polygons = shapely.geometry.MultiPolygon(all_polygons)\n",
    "if not all_polygons.is_valid:\n",
    "    all_polygons = all_polygons.buffer(0)\n",
    "    # Sometimes buffer() converts a simple Multipolygon to just a Polygon,\n",
    "    # need to keep it a Multi throughout\n",
    "    if all_polygons.type == 'Polygon':\n",
    "        all_polygons = shapely.geometry.MultiPolygon([all_polygons])"
   ]
  },
  {
   "cell_type": "code",
   "execution_count": 3,
   "id": "ea9d95a2",
   "metadata": {},
   "outputs": [
    {
     "name": "stdout",
     "output_type": "stream",
     "text": [
      "             Especie                                           geometry\n",
      "0    Attalea colenda  POLYGON ((-79.66503 0.36755, -79.66481 0.36755...\n",
      "1  Oenocarpus bataua  POLYGON ((-79.66449 0.36788, -79.66428 0.36788...\n",
      "2  Oenocarpus bataua  POLYGON ((-79.66544 0.36798, -79.66523 0.36798...\n",
      "3  Oenocarpus bataua  POLYGON ((-79.66852 0.36822, -79.66831 0.36822...\n",
      "4  Oenocarpus bataua  POLYGON ((-79.66944 0.36872, -79.66923 0.36872...\n"
     ]
    }
   ],
   "source": [
    "### This section converts the points from the CSV file to boxes\n",
    "### not necessary if your annotations are already in boxes\n",
    "\n",
    "# reading in the orthomosaic, for spatial reference (CRS)\n",
    "# and the point file, as a csv with X and Y coordinate columns for lat/lon\n",
    "\n",
    "dataset = rasterio.open(orthomosaic_path)\n",
    "pts = gpd.read_file(input_csv) # read in the CSV file to a geodataframe\n",
    "gdf=gpd.points_from_xy(pts.POINT_X, pts.POINT_Y)\n",
    "\n",
    "# we apply a buffer around each point\n",
    "buffer_dist = object_size # distance from center, in meters.\n",
    "#Buffer will be 2x object size, since we're generating background points\n",
    "buffer_dist = buffer_dist/111300 # converted to lat/lon degrees\n",
    "\n",
    "box_list = []\n",
    "for pt in gdf:\n",
    "    box= pt.buffer(buffer_dist).envelope\n",
    "    box_list.append(box)\n",
    "\n",
    "# then we assemble a new geodataframe with these boxes\n",
    "\n",
    "d = {class_colname: pts[class_colname], 'geometry': box_list}\n",
    "boxes = gpd.GeoDataFrame(d, crs=dataset.crs)\n",
    "\n",
    "# we now have a geodataframe of species-labeled boxes extending 'buffer_dist' around each point\n",
    "print(boxes[0:5])"
   ]
  },
  {
   "cell_type": "code",
   "execution_count": 4,
   "id": "5ce6d568",
   "metadata": {},
   "outputs": [],
   "source": [
    "### this step takes a long time\n",
    "gdf1 = gpd.GeoDataFrame(index=[0], crs=dataset.crs, geometry=[all_polygons])\n",
    "gdf2 = gdf1.overlay(boxes, how='difference')\n",
    "\n",
    "### If you want to view this file:\n",
    "# gdf2.to_file(output_dir + '/background.shp')"
   ]
  },
  {
   "cell_type": "code",
   "execution_count": 28,
   "id": "e95a0b1b",
   "metadata": {},
   "outputs": [
    {
     "name": "stdout",
     "output_type": "stream",
     "text": [
      "100 of 3128 points generated so far\n",
      "200 of 3128 points generated so far\n",
      "300 of 3128 points generated so far\n",
      "400 of 3128 points generated so far\n",
      "500 of 3128 points generated so far\n",
      "600 of 3128 points generated so far\n",
      "700 of 3128 points generated so far\n",
      "800 of 3128 points generated so far\n",
      "900 of 3128 points generated so far\n",
      "1000 of 3128 points generated so far\n",
      "1100 of 3128 points generated so far\n",
      "1200 of 3128 points generated so far\n",
      "1300 of 3128 points generated so far\n",
      "1400 of 3128 points generated so far\n",
      "1500 of 3128 points generated so far\n",
      "1600 of 3128 points generated so far\n",
      "1700 of 3128 points generated so far\n",
      "1800 of 3128 points generated so far\n",
      "1900 of 3128 points generated so far\n",
      "2000 of 3128 points generated so far\n",
      "2100 of 3128 points generated so far\n",
      "2200 of 3128 points generated so far\n",
      "2300 of 3128 points generated so far\n",
      "2400 of 3128 points generated so far\n",
      "2500 of 3128 points generated so far\n",
      "2600 of 3128 points generated so far\n",
      "2700 of 3128 points generated so far\n",
      "2800 of 3128 points generated so far\n",
      "2900 of 3128 points generated so far\n",
      "3000 of 3128 points generated so far\n",
      "3100 of 3128 points generated so far\n",
      "done.\n"
     ]
    }
   ],
   "source": [
    "### this step also takes a long time\n",
    "def generate_random(number, polygon):\n",
    "    points = []\n",
    "    minx, miny, maxx, maxy = polygon.bounds\n",
    "    while len(points) < number:\n",
    "        pnt = shapely.Point(random.uniform(minx, maxx), random.uniform(miny, maxy))\n",
    "        if polygon.contains(pnt):\n",
    "            points.append(pnt)\n",
    "            if len(points) % 100 == 0:\n",
    "                print(f'{len(points)} of {number} points generated so far')\n",
    "    print('done.')\n",
    "    return points\n",
    "\n",
    "background_pts = generate_random(3128, gdf2['geometry'][0])"
   ]
  },
  {
   "cell_type": "code",
   "execution_count": 76,
   "id": "b17237eb",
   "metadata": {},
   "outputs": [],
   "source": [
    "### If you want to export it as a CSV\n",
    "\n",
    "import csv\n",
    "coords = [[x.coords[0][0], x.coords[0][1]] for x in background_pts]\n",
    "with open(output_dir + \"/background_coords.csv\", 'w') as f:\n",
    "    write = csv.writer(f, lineterminator='\\r')\n",
    "    write.writerows(coords)"
   ]
  },
  {
   "cell_type": "code",
   "execution_count": 29,
   "id": "948ea535",
   "metadata": {},
   "outputs": [],
   "source": [
    "### If you want to export it as a shapefile\n",
    "\n",
    "from shapely.geometry import mapping, MultiPoint\n",
    "import fiona\n",
    "\n",
    "background_mpts = shapely.MultiPoint(background_pts)\n",
    "\n",
    "# Define a polygon feature geometry with one attribute\n",
    "schema = {\n",
    "    'geometry': 'MultiPoint',\n",
    "    'properties': {'id': 'int'},\n",
    "}\n",
    "\n",
    "# Write a new Shapefile\n",
    "with fiona.open(output_dir + '/background_points.shp', 'w', 'ESRI Shapefile', schema) as c:\n",
    "    ## If there are multiple geometries, put the \"for\" loop here\n",
    "    c.write({\n",
    "        'geometry': mapping(background_mpts),\n",
    "        'properties': {'id': 111},\n",
    "    })"
   ]
  },
  {
   "cell_type": "code",
   "execution_count": null,
   "id": "f0b32f5d",
   "metadata": {},
   "outputs": [],
   "source": []
  }
 ],
 "metadata": {
  "kernelspec": {
   "display_name": "Python 3 (ipykernel)",
   "language": "python",
   "name": "python3"
  },
  "language_info": {
   "codemirror_mode": {
    "name": "ipython",
    "version": 3
   },
   "file_extension": ".py",
   "mimetype": "text/x-python",
   "name": "python",
   "nbconvert_exporter": "python",
   "pygments_lexer": "ipython3",
   "version": "3.8.16"
  }
 },
 "nbformat": 4,
 "nbformat_minor": 5
}
