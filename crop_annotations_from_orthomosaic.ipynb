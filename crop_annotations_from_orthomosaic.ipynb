{
 "cells": [
  {
   "cell_type": "code",
   "execution_count": 1,
   "id": "ae859fab",
   "metadata": {},
   "outputs": [],
   "source": [
    "from pprint import pprint\n",
    "from shapely.geometry import mapping\n",
    "import geopandas as gpd, rasterio, os\n",
    "from PIL import Image\n",
    "from rasterio.mask import mask\n",
    "from rasterio.plot import reshape_as_image\n",
    "\n",
    "orthomosaic_path = \"D:/FCAT/FCAT2APPK.tif\"\n",
    "output_dir = \"D:/FCAT/annotation_crops\" # folder where any outputs will be dumped\n",
    "input_csv = \"D:/FCAT/Orthomosaic_1_training_data_v3.csv\" # csv of points representing focal objects, here palm trees\n",
    "class_colname = 'Especie' # column where the object \"class\" is located in the input_csv\n",
    "object_size = 12 # estimated size of our focal object, here a palm tree, given in meters\n",
    "\n",
    "if not os.path.exists(output_dir):\n",
    "    os.makedirs(output_dir)"
   ]
  },
  {
   "cell_type": "code",
   "execution_count": 2,
   "id": "be9f1e56",
   "metadata": {},
   "outputs": [
    {
     "name": "stdout",
     "output_type": "stream",
     "text": [
      "             Especie                                           geometry\n",
      "0    Attalea colenda  POLYGON ((-79.66497 0.36761, -79.66487 0.36761...\n",
      "1  Oenocarpus bataua  POLYGON ((-79.66444 0.36793, -79.66433 0.36793...\n",
      "2  Oenocarpus bataua  POLYGON ((-79.66539 0.36803, -79.66528 0.36803...\n",
      "3  Oenocarpus bataua  POLYGON ((-79.66847 0.36828, -79.66836 0.36828...\n",
      "4  Oenocarpus bataua  POLYGON ((-79.66939 0.36877, -79.66928 0.36877...\n"
     ]
    }
   ],
   "source": [
    "### This section converts the points from the CSV file to boxes\n",
    "### not necessary if your annotations are already in boxes\n",
    "\n",
    "# reading in the orthomosaic, for spatial reference (CRS)\n",
    "# and the point file, as a csv with X and Y coordinate columns for lat/lon\n",
    "\n",
    "dataset = rasterio.open(orthomosaic_path)\n",
    "pts = gpd.read_file(input_csv) # read in the CSV file to a geodataframe\n",
    "gdf=gpd.points_from_xy(pts.POINT_X, pts.POINT_Y)\n",
    "\n",
    "# we apply a buffer around each point\n",
    "buffer_dist = object_size/2 # distance from center, in meters\n",
    "buffer_dist = buffer_dist/111300 # converted to lat/lon degrees\n",
    "\n",
    "box_list = []\n",
    "for pt in gdf:\n",
    "    box= pt.buffer(buffer_dist).envelope\n",
    "    box_list.append(box)\n",
    "\n",
    "# then we assemble a new geodataframe with these boxes\n",
    "\n",
    "d = {class_colname: pts[class_colname], 'geometry': box_list}\n",
    "boxes = gpd.GeoDataFrame(d, crs=dataset.crs)\n",
    "\n",
    "# we now have a geodataframe of species-labeled boxes extending 'buffer_dist' around each point\n",
    "print(boxes[0:5])"
   ]
  },
  {
   "cell_type": "code",
   "execution_count": 3,
   "id": "79a00e08",
   "metadata": {},
   "outputs": [
    {
     "name": "stdout",
     "output_type": "stream",
     "text": [
      "0 annotations cropped so far, up to FCAT2APPK_0_Attalea colenda.tif\n",
      "100 annotations cropped so far, up to FCAT2APPK_100_Iriartea deltoidea.tif\n",
      "200 annotations cropped so far, up to FCAT2APPK_200_Bottlebrush unk..tif\n",
      "300 annotations cropped so far, up to FCAT2APPK_300_Bottlebrush unk..tif\n",
      "400 annotations cropped so far, up to FCAT2APPK_400_Fan unk..tif\n",
      "500 annotations cropped so far, up to FCAT2APPK_500_Bottlebrush unk..tif\n",
      "600 annotations cropped so far, up to FCAT2APPK_600_Bottlebrush unk..tif\n",
      "700 annotations cropped so far, up to FCAT2APPK_700_Bottlebrush unk..tif\n",
      "800 annotations cropped so far, up to FCAT2APPK_800_Bottlebrush unk..tif\n",
      "900 annotations cropped so far, up to FCAT2APPK_900_Bottlebrush unk..tif\n",
      "1000 annotations cropped so far, up to FCAT2APPK_1000_Bottlebrush unk..tif\n",
      "1100 annotations cropped so far, up to FCAT2APPK_1100_Bottlebrush unk..tif\n",
      "1200 annotations cropped so far, up to FCAT2APPK_1200_Bottlebrush unk..tif\n",
      "1300 annotations cropped so far, up to FCAT2APPK_1300_Bottlebrush unk..tif\n",
      "1400 annotations cropped so far, up to FCAT2APPK_1400_Bottlebrush unk..tif\n",
      "1500 annotations cropped so far, up to FCAT2APPK_1500_Bottlebrush unk..tif\n",
      "1600 annotations cropped so far, up to FCAT2APPK_1600_Bottlebrush unk..tif\n",
      "1700 annotations cropped so far, up to FCAT2APPK_1700_Bottlebrush unk..tif\n",
      "1800 annotations cropped so far, up to FCAT2APPK_1800_Bottlebrush unk..tif\n",
      "1900 annotations cropped so far, up to FCAT2APPK_1900_Bottlebrush unk..tif\n",
      "2000 annotations cropped so far, up to FCAT2APPK_2000_Bottlebrush unk..tif\n",
      "2100 annotations cropped so far, up to FCAT2APPK_2100_Bottlebrush unk..tif\n",
      "2200 annotations cropped so far, up to FCAT2APPK_2200_Bottlebrush unk..tif\n",
      "2300 annotations cropped so far, up to FCAT2APPK_2300_Bottlebrush unk..tif\n",
      "2400 annotations cropped so far, up to FCAT2APPK_2400_Bottlebrush unk..tif\n",
      "2500 annotations cropped so far, up to FCAT2APPK_2500_Bottlebrush unk..tif\n",
      "2600 annotations cropped so far, up to FCAT2APPK_2600_Bottlebrush unk..tif\n",
      "2700 annotations cropped so far, up to FCAT2APPK_2700_Bottlebrush unk..tif\n",
      "2800 annotations cropped so far, up to FCAT2APPK_2800_Bottlebrush unk..tif\n",
      "2900 annotations cropped so far, up to FCAT2APPK_2900_Bottlebrush unk..tif\n",
      "script complete\n"
     ]
    }
   ],
   "source": [
    "orthomosaic_name = orthomosaic_path.split(\"/\")[-1].split(\".\")[0]\n",
    "\n",
    "for k in range(0, len(boxes)):\n",
    "    \n",
    "    ### this variable is your output filename - feel free to include more metadata in here\n",
    "    image_name = f\"{orthomosaic_name}_{k}_{boxes[class_colname][k]}.tif\"\n",
    "    out_img, out_transform = mask(dataset, [boxes['geometry'][k]], crop=True)\n",
    "    img=Image.fromarray(reshape_as_image(out_img))\n",
    "    \n",
    "    # make the new output directory for the species\n",
    "    new_output_dir = f\"{output_dir}/{boxes[class_colname][k]}\"\n",
    "    \n",
    "    # if it hasn't been created yet, make it\n",
    "    if not os.path.exists(new_output_dir):\n",
    "        os.makedirs(new_output_dir)\n",
    "    \n",
    "    path=os.path.join(new_output_dir, image_name)\n",
    "    img.save(path)\n",
    "    #print(boxes[k])\n",
    "    if k%100 == 0:\n",
    "        print(f\"{k} annotations cropped so far, up to {image_name}\")\n",
    "\n",
    "print(\"script complete\")"
   ]
  },
  {
   "cell_type": "code",
   "execution_count": null,
   "id": "4c1ef639",
   "metadata": {},
   "outputs": [],
   "source": []
  }
 ],
 "metadata": {
  "kernelspec": {
   "display_name": "Python 3 (ipykernel)",
   "language": "python",
   "name": "python3"
  },
  "language_info": {
   "codemirror_mode": {
    "name": "ipython",
    "version": 3
   },
   "file_extension": ".py",
   "mimetype": "text/x-python",
   "name": "python",
   "nbconvert_exporter": "python",
   "pygments_lexer": "ipython3",
   "version": "3.8.16"
  }
 },
 "nbformat": 4,
 "nbformat_minor": 5
}
